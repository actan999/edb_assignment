{
 "cells": [
  {
   "cell_type": "markdown",
   "metadata": {},
   "source": [
    "## ETL Commits Data from Github REST API\n",
    "\n",
    "From https://github.com/apache/airflow, download commits over the last 6 months.  For this POC, Mar to Aug 2022 is selected for ETL and subsequent analysis.\n"
   ]
  },
  {
   "cell_type": "code",
   "execution_count": 1,
   "metadata": {},
   "outputs": [
    {
     "name": "stderr",
     "output_type": "stream",
     "text": [
      "c:\\Users\\aikch\\anaconda3\\envs\\edb_assignm\\lib\\site-packages\\requests\\__init__.py:102: RequestsDependencyWarning: urllib3 (1.26.9) or chardet (5.0.0)/charset_normalizer (2.0.4) doesn't match a supported version!\n",
      "  warnings.warn(\"urllib3 ({}) or chardet ({})/charset_normalizer ({}) doesn't match a supported \"\n"
     ]
    }
   ],
   "source": [
    "# to automatically reload jupyter whenever the code in common module is changed\n",
    "%load_ext autoreload\n",
    "%reload_ext autoreload\n",
    "%autoreload 2\n",
    "\n",
    "from datetime import datetime, timezone\n",
    "import sys\n",
    "import time\n",
    "import requests\n",
    "import json\n",
    "import sqlite3\n",
    "import pandas as pd\n",
    "\n",
    "import common as comm\n",
    "import my_credentials\n",
    "\n",
    "\n",
    "sql_db = 'github_api.db'"
   ]
  },
  {
   "cell_type": "markdown",
   "metadata": {},
   "source": [
    "### To download commits data\n",
    "\n",
    "API calls are made in batches i.e., fortnightly batches from Mar to Aug 2022 to address the rate-limit imposed by Github REST API.  Pauses are made between calls to throttle the call frequencies as well.\n",
    "\n",
    "It takes between 14 to 15mins to collect all responses for the six month periods, using home wifi."
   ]
  },
  {
   "cell_type": "code",
   "execution_count": 2,
   "metadata": {},
   "outputs": [],
   "source": [
    "six_mth_period = [('2022-03-01', '2022-03-14'),\n",
    "                ('2022-03-15', '2022-03-27'),\n",
    "                ('2022-03-28', '2022-04-09'),\n",
    "                ('2022-04-10', '2022-04-22'),\n",
    "                ('2022-04-23', '2022-05-05'),\n",
    "                ('2022-05-06', '2022-05-18'),\n",
    "                ('2022-05-19', '2022-05-31'),\n",
    "                ('2022-06-01', '2022-06-13'),\n",
    "                ('2022-06-14', '2022-06-26'),\n",
    "                ('2022-06-27', '2022-07-09'),\n",
    "                ('2022-07-10', '2022-07-22'),\n",
    "                ('2022-07-23', '2022-08-05'),\n",
    "                ('2022-08-06', '2022-08-18'),\n",
    "                ('2022-08-19', '2022-08-31'),]\n",
    "                \n",
    "\n",
    "access_token = my_credentials.secret_token.get('access_token', None)\n",
    "headers = {'Authorization': access_token}\n",
    "base_query_url = 'https://api.github.com/search/commits?q=repo:apache/airflow'\n",
    "\n",
    "response_collected = comm.collect_data(base_query_url, headers, six_mth_period)\n"
   ]
  },
  {
   "cell_type": "markdown",
   "metadata": {},
   "source": [
    "### To write data to sqlite3 database"
   ]
  },
  {
   "cell_type": "code",
   "execution_count": 3,
   "metadata": {},
   "outputs": [],
   "source": [
    "# create table\n",
    "conn = sqlite3.connect('github_api.db')\n",
    "cursor = conn.cursor()\n",
    "cursor.execute(\"\"\"\n",
    "    CREATE TABLE IF NOT EXISTS commits_history\n",
    "    ([committer_name] TEXT,  \n",
    "     [committer_email] TEXT,\n",
    "     [commit_datetime] TEXT,\n",
    "     [commit_url] TEXT)\n",
    "\"\"\")  \n",
    "conn.commit()\n",
    "conn.close()\n"
   ]
  },
  {
   "cell_type": "code",
   "execution_count": 4,
   "metadata": {},
   "outputs": [],
   "source": [
    "# delete data b4 insert of data\n",
    "conn = sqlite3.connect(\"github_api.db\")\n",
    "cursor = conn.cursor()\n",
    "query = \"\"\"\n",
    "    DELETE FROM commits_history\n",
    "\"\"\"\n",
    "cursor.execute(query)\n",
    "conn.commit()\n"
   ]
  },
  {
   "cell_type": "code",
   "execution_count": 5,
   "metadata": {},
   "outputs": [],
   "source": [
    "# insert data\n",
    "conn = sqlite3.connect(\"github_api.db\")\n",
    "cursor = conn.cursor()\n",
    "query = \"\"\"\n",
    "    INSERT INTO commits_history\n",
    "    (committer_name, committer_email, commit_datetime, commit_url)\n",
    "    VALUES\n",
    "    (?, ?, ?, ?);    \n",
    "\"\"\"\n",
    "\n",
    "for period, list_of_dicts in response_collected.items():\n",
    "    for dict_obj in list_of_dicts['items']:\n",
    "        try:\n",
    "            datapoints = (\n",
    "            dict_obj['commit']['committer']['name'],\n",
    "            dict_obj['commit']['committer']['email'], \n",
    "            dict_obj['commit']['committer']['date'],\n",
    "            dict_obj['commit']['url']\n",
    "            ) \n",
    "        except TypeError as e:  # TypeError: 'NoneType' object is not subscriptable\n",
    "            pass\n",
    "    cursor.execute(query, datapoints)  # ingest only complete records, ignoring NoneType\n",
    "    conn.commit()\n"
   ]
  },
  {
   "cell_type": "code",
   "execution_count": 6,
   "metadata": {},
   "outputs": [
    {
     "name": "stdout",
     "output_type": "stream",
     "text": [
      "   committer_name     committer_email                commit_datetime  \\\n",
      "0          GitHub  noreply@github.com  2022-03-01T15:28:28.000+01:00   \n",
      "1          GitHub  noreply@github.com  2022-03-21T21:38:25.000+01:00   \n",
      "2          GitHub  noreply@github.com  2022-04-08T18:20:54.000+01:00   \n",
      "3          GitHub  noreply@github.com  2022-04-12T20:15:29.000+01:00   \n",
      "4    Jarek Potiuk    jarek@potiuk.com  2022-04-25T23:05:00.000+02:00   \n",
      "5          GitHub  noreply@github.com  2022-05-16T14:13:53.000-07:00   \n",
      "6          GitHub  noreply@github.com  2022-05-24T08:10:18.000-06:00   \n",
      "7          GitHub  noreply@github.com  2022-06-07T13:13:16.000+02:00   \n",
      "8          GitHub  noreply@github.com  2022-06-24T16:51:01.000+01:00   \n",
      "9          GitHub  noreply@github.com  2022-07-05T12:43:43.000+02:00   \n",
      "10         GitHub  noreply@github.com  2022-07-11T09:52:23.000-06:00   \n",
      "11         GitHub  noreply@github.com  2022-08-04T11:05:52.000-04:00   \n",
      "12         GitHub  noreply@github.com  2022-08-18T23:13:21.000+08:00   \n",
      "13         GitHub  noreply@github.com  2022-08-27T04:02:52.000+02:00   \n",
      "\n",
      "                                           commit_url  \n",
      "0   https://api.github.com/repos/apache/airflow/gi...  \n",
      "1   https://api.github.com/repos/apache/airflow/gi...  \n",
      "2   https://api.github.com/repos/apache/airflow/gi...  \n",
      "3   https://api.github.com/repos/apache/airflow/gi...  \n",
      "4   https://api.github.com/repos/apache/airflow/gi...  \n",
      "5   https://api.github.com/repos/apache/airflow/gi...  \n",
      "6   https://api.github.com/repos/apache/airflow/gi...  \n",
      "7   https://api.github.com/repos/apache/airflow/gi...  \n",
      "8   https://api.github.com/repos/apache/airflow/gi...  \n",
      "9   https://api.github.com/repos/apache/airflow/gi...  \n",
      "10  https://api.github.com/repos/apache/airflow/gi...  \n",
      "11  https://api.github.com/repos/apache/airflow/gi...  \n",
      "12  https://api.github.com/repos/apache/airflow/gi...  \n",
      "13  https://api.github.com/repos/apache/airflow/gi...  \n",
      "df.shape: (14, 4)\n"
     ]
    }
   ],
   "source": [
    "# read data\n",
    "conn = sqlite3.connect(\"github_api.db\")\n",
    "cursor = conn.cursor()\n",
    "cursor.execute(\"\"\"\n",
    "    SELECT * \n",
    "    FROM commits_history\n",
    "\"\"\")\n",
    "\n",
    "\n",
    "\n",
    "df = pd.DataFrame(cursor.fetchall(), columns=['committer_name', 'committer_email', 'commit_datetime', 'commit_url'])\n",
    "conn.close()\n",
    "\n",
    "\n",
    "print(df.head(30))\n",
    "print(f\"df.shape: {df.shape}\")"
   ]
  }
 ],
 "metadata": {
  "kernelspec": {
   "display_name": "Python 3.9.13 ('edb_assignm')",
   "language": "python",
   "name": "python3"
  },
  "language_info": {
   "codemirror_mode": {
    "name": "ipython",
    "version": 3
   },
   "file_extension": ".py",
   "mimetype": "text/x-python",
   "name": "python",
   "nbconvert_exporter": "python",
   "pygments_lexer": "ipython3",
   "version": "3.9.13"
  },
  "orig_nbformat": 4,
  "vscode": {
   "interpreter": {
    "hash": "c83ac6187a355ba95e83e67838fbf8a2098c8532bf06d1dd34f7f96327c78a5f"
   }
  }
 },
 "nbformat": 4,
 "nbformat_minor": 2
}
