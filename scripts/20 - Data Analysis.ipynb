{
 "cells": [
  {
   "cell_type": "markdown",
   "metadata": {},
   "source": [
    "## Data Analysis to address the followng queries on Git Commits:\n",
    "\n",
    "1. Determine the top 5 committers ranked by count of commits and their number of commits\n",
    "2. Determine the committer with the longest streak\n",
    "3. Generate a heatmap of number of commits count by all users by day-of-week and by 3 hour blocks\n",
    "\n",
    "There are 2 user concepts, an author and a committer. We will use the committer object."
   ]
  },
  {
   "cell_type": "code",
   "execution_count": 1,
   "metadata": {},
   "outputs": [
    {
     "name": "stderr",
     "output_type": "stream",
     "text": [
      "c:\\Users\\aikch\\anaconda3\\envs\\edb_assignm\\lib\\site-packages\\requests\\__init__.py:102: RequestsDependencyWarning: urllib3 (1.26.9) or chardet (5.0.0)/charset_normalizer (2.0.4) doesn't match a supported version!\n",
      "  warnings.warn(\"urllib3 ({}) or chardet ({})/charset_normalizer ({}) doesn't match a supported \"\n"
     ]
    }
   ],
   "source": [
    "# to automatically reload jupyter whenever the code in module is changed\n",
    "%load_ext autoreload\n",
    "%reload_ext autoreload\n",
    "%autoreload 2\n",
    "\n",
    "import sqlite3\n",
    "import pandas as pd\n",
    "import datetime as dt\n",
    "from datetime import datetime, timezone\n",
    "from pandas.io.formats import style\n",
    "\n",
    "import common as comm\n",
    "\n",
    "local_timezone = 'Asia/Singapore'\n",
    "ordered_weekday = [ 'Mon', 'Tue', 'Wed', 'Thu', 'Fri', 'Sat', 'Sun']\n",
    "three_hourly_blocks = [\n",
    "    ('00-03', '00:00:00' , '02:59:00'),\n",
    "    ('03-06', '03:00:00' , '05:59:00'),\n",
    "    ('06-09', '06:00:00' , '08:59:00'),\n",
    "    ('09-12', '09:00:00' , '11:59:00'),\n",
    "    ('12-15', '12:00:00' , '14:59:00'),\n",
    "    ('15-18', '15:00:00' , '17:59:00'),\n",
    "    ('18-21', '18:00:00' , '20:59:00'),\n",
    "    ('21-00', '21:00:00' , '23:59:00'),\n",
    "]\n"
   ]
  },
  {
   "cell_type": "code",
   "execution_count": 2,
   "metadata": {},
   "outputs": [
    {
     "name": "stdout",
     "output_type": "stream",
     "text": [
      "df.shape: (14, 4)\n"
     ]
    }
   ],
   "source": [
    "# read data\n",
    "conn = sqlite3.connect(\"github_api.db\")\n",
    "cursor = conn.cursor()\n",
    "cursor.execute(\"\"\"\n",
    "    SELECT * \n",
    "    FROM commits_history\n",
    "\"\"\")\n",
    "\n",
    "\n",
    "\n",
    "df = pd.DataFrame(cursor.fetchall(), columns=['committer_name', 'committer_email', 'commit_datetime', 'commit_url'])\n",
    "print(f\"df.shape: {df.shape}\")"
   ]
  },
  {
   "cell_type": "markdown",
   "metadata": {},
   "source": [
    "### Issue 1 - Determine the top 5 committers ranked by count of commits and their number of commits"
   ]
  },
  {
   "cell_type": "code",
   "execution_count": 3,
   "metadata": {},
   "outputs": [
    {
     "data": {
      "text/html": [
       "<div>\n",
       "<style scoped>\n",
       "    .dataframe tbody tr th:only-of-type {\n",
       "        vertical-align: middle;\n",
       "    }\n",
       "\n",
       "    .dataframe tbody tr th {\n",
       "        vertical-align: top;\n",
       "    }\n",
       "\n",
       "    .dataframe thead th {\n",
       "        text-align: right;\n",
       "    }\n",
       "</style>\n",
       "<table border=\"1\" class=\"dataframe\">\n",
       "  <thead>\n",
       "    <tr style=\"text-align: right;\">\n",
       "      <th></th>\n",
       "      <th>commit_datetime</th>\n",
       "    </tr>\n",
       "    <tr>\n",
       "      <th>committer_name</th>\n",
       "      <th></th>\n",
       "    </tr>\n",
       "  </thead>\n",
       "  <tbody>\n",
       "    <tr>\n",
       "      <th>GitHub</th>\n",
       "      <td>13</td>\n",
       "    </tr>\n",
       "    <tr>\n",
       "      <th>Jarek Potiuk</th>\n",
       "      <td>1</td>\n",
       "    </tr>\n",
       "  </tbody>\n",
       "</table>\n",
       "</div>"
      ],
      "text/plain": [
       "                commit_datetime\n",
       "committer_name                 \n",
       "GitHub                       13\n",
       "Jarek Potiuk                  1"
      ]
     },
     "execution_count": 3,
     "metadata": {},
     "output_type": "execute_result"
    }
   ],
   "source": [
    "issue_1_df = df.copy()\n",
    "(issue_1_df[['committer_name', 'commit_datetime']]\n",
    "    .groupby(['committer_name']).count()\n",
    "    .sort_values(['commit_datetime'], ascending=False)\n",
    "    .head())"
   ]
  },
  {
   "cell_type": "markdown",
   "metadata": {},
   "source": [
    "### Issue 2 - Determine the committer with the longest streak"
   ]
  },
  {
   "cell_type": "code",
   "execution_count": 4,
   "metadata": {},
   "outputs": [],
   "source": [
    "issue_2_df = comm.localize_timestamp_to_local_timezone(df.copy(), 'commit_datetime', local_timezone)"
   ]
  },
  {
   "cell_type": "code",
   "execution_count": 5,
   "metadata": {},
   "outputs": [
    {
     "name": "stderr",
     "output_type": "stream",
     "text": [
      "C:\\Users\\aikch\\AppData\\Local\\Temp\\ipykernel_11040\\3435505485.py:2: FutureWarning: Dropping invalid columns in DataFrameGroupBy.mean is deprecated. In a future version, a TypeError will be raised. Before calling .mean, select only columns which should be valid for the function.\n",
      "  issue_2_df_pv_on_name_date = issue_2_df.pivot_table(index='committer_name', columns='locale_date')\n"
     ]
    },
    {
     "data": {
      "text/html": [
       "<div>\n",
       "<style scoped>\n",
       "    .dataframe tbody tr th:only-of-type {\n",
       "        vertical-align: middle;\n",
       "    }\n",
       "\n",
       "    .dataframe tbody tr th {\n",
       "        vertical-align: top;\n",
       "    }\n",
       "\n",
       "    .dataframe thead tr th {\n",
       "        text-align: left;\n",
       "    }\n",
       "\n",
       "    .dataframe thead tr:last-of-type th {\n",
       "        text-align: right;\n",
       "    }\n",
       "</style>\n",
       "<table border=\"1\" class=\"dataframe\">\n",
       "  <thead>\n",
       "    <tr>\n",
       "      <th></th>\n",
       "      <th colspan=\"14\" halign=\"left\">utc_dt_local_tz</th>\n",
       "    </tr>\n",
       "    <tr>\n",
       "      <th>locale_date</th>\n",
       "      <th>03/01/22</th>\n",
       "      <th>03/22/22</th>\n",
       "      <th>04/09/22</th>\n",
       "      <th>04/13/22</th>\n",
       "      <th>04/26/22</th>\n",
       "      <th>05/17/22</th>\n",
       "      <th>05/24/22</th>\n",
       "      <th>06/07/22</th>\n",
       "      <th>06/24/22</th>\n",
       "      <th>07/05/22</th>\n",
       "      <th>07/11/22</th>\n",
       "      <th>08/04/22</th>\n",
       "      <th>08/18/22</th>\n",
       "      <th>08/27/22</th>\n",
       "    </tr>\n",
       "    <tr>\n",
       "      <th>committer_name</th>\n",
       "      <th></th>\n",
       "      <th></th>\n",
       "      <th></th>\n",
       "      <th></th>\n",
       "      <th></th>\n",
       "      <th></th>\n",
       "      <th></th>\n",
       "      <th></th>\n",
       "      <th></th>\n",
       "      <th></th>\n",
       "      <th></th>\n",
       "      <th></th>\n",
       "      <th></th>\n",
       "      <th></th>\n",
       "    </tr>\n",
       "  </thead>\n",
       "  <tbody>\n",
       "    <tr>\n",
       "      <th>GitHub</th>\n",
       "      <td>2022-03-01 22:28:28+08:00</td>\n",
       "      <td>2022-03-22 04:38:25+08:00</td>\n",
       "      <td>2022-04-09 01:20:54+08:00</td>\n",
       "      <td>2022-04-13 03:15:29+08:00</td>\n",
       "      <td>NaT</td>\n",
       "      <td>2022-05-17 05:13:53+08:00</td>\n",
       "      <td>2022-05-24 22:10:18+08:00</td>\n",
       "      <td>2022-06-07 19:13:16+08:00</td>\n",
       "      <td>2022-06-24 23:51:01+08:00</td>\n",
       "      <td>2022-07-05 18:43:43+08:00</td>\n",
       "      <td>2022-07-11 23:52:23+08:00</td>\n",
       "      <td>2022-08-04 23:05:52+08:00</td>\n",
       "      <td>2022-08-18 23:13:21+08:00</td>\n",
       "      <td>2022-08-27 10:02:52+08:00</td>\n",
       "    </tr>\n",
       "    <tr>\n",
       "      <th>Jarek Potiuk</th>\n",
       "      <td>NaT</td>\n",
       "      <td>NaT</td>\n",
       "      <td>NaT</td>\n",
       "      <td>NaT</td>\n",
       "      <td>2022-04-26 05:05:00+08:00</td>\n",
       "      <td>NaT</td>\n",
       "      <td>NaT</td>\n",
       "      <td>NaT</td>\n",
       "      <td>NaT</td>\n",
       "      <td>NaT</td>\n",
       "      <td>NaT</td>\n",
       "      <td>NaT</td>\n",
       "      <td>NaT</td>\n",
       "      <td>NaT</td>\n",
       "    </tr>\n",
       "  </tbody>\n",
       "</table>\n",
       "</div>"
      ],
      "text/plain": [
       "                         utc_dt_local_tz                            \\\n",
       "locale_date                     03/01/22                  03/22/22   \n",
       "committer_name                                                       \n",
       "GitHub         2022-03-01 22:28:28+08:00 2022-03-22 04:38:25+08:00   \n",
       "Jarek Potiuk                         NaT                       NaT   \n",
       "\n",
       "                                                                    \\\n",
       "locale_date                     04/09/22                  04/13/22   \n",
       "committer_name                                                       \n",
       "GitHub         2022-04-09 01:20:54+08:00 2022-04-13 03:15:29+08:00   \n",
       "Jarek Potiuk                         NaT                       NaT   \n",
       "\n",
       "                                                                    \\\n",
       "locale_date                     04/26/22                  05/17/22   \n",
       "committer_name                                                       \n",
       "GitHub                               NaT 2022-05-17 05:13:53+08:00   \n",
       "Jarek Potiuk   2022-04-26 05:05:00+08:00                       NaT   \n",
       "\n",
       "                                                                    \\\n",
       "locale_date                     05/24/22                  06/07/22   \n",
       "committer_name                                                       \n",
       "GitHub         2022-05-24 22:10:18+08:00 2022-06-07 19:13:16+08:00   \n",
       "Jarek Potiuk                         NaT                       NaT   \n",
       "\n",
       "                                                                    \\\n",
       "locale_date                     06/24/22                  07/05/22   \n",
       "committer_name                                                       \n",
       "GitHub         2022-06-24 23:51:01+08:00 2022-07-05 18:43:43+08:00   \n",
       "Jarek Potiuk                         NaT                       NaT   \n",
       "\n",
       "                                                                    \\\n",
       "locale_date                     07/11/22                  08/04/22   \n",
       "committer_name                                                       \n",
       "GitHub         2022-07-11 23:52:23+08:00 2022-08-04 23:05:52+08:00   \n",
       "Jarek Potiuk                         NaT                       NaT   \n",
       "\n",
       "                                                                    \n",
       "locale_date                     08/18/22                  08/27/22  \n",
       "committer_name                                                      \n",
       "GitHub         2022-08-18 23:13:21+08:00 2022-08-27 10:02:52+08:00  \n",
       "Jarek Potiuk                         NaT                       NaT  "
      ]
     },
     "execution_count": 5,
     "metadata": {},
     "output_type": "execute_result"
    }
   ],
   "source": [
    "# to quickly visualize for possible streaks\n",
    "issue_2_df_pv_on_name_date = issue_2_df.pivot_table(index='committer_name', columns='locale_date')\n",
    "\n",
    "issue_2_df_pv_on_name_date"
   ]
  },
  {
   "cell_type": "markdown",
   "metadata": {},
   "source": [
    "There is no commit streak in this commit history series for Apache-Airflow repo from Mar to Aug 22.   \n",
    "\n",
    "seek_consecutive_dates() function returns any dates that are in consecutive order, if any.  Here, the output only shows the start dates for each subset of the date range given to the function."
   ]
  },
  {
   "cell_type": "code",
   "execution_count": 6,
   "metadata": {},
   "outputs": [
    {
     "data": {
      "text/plain": [
       "{'Range1': ('2022-03-01',),\n",
       " 'Range2': ('2022-03-22',),\n",
       " 'Range3': ('2022-04-09',),\n",
       " 'Range4': ('2022-04-13',),\n",
       " 'Range5': ('2022-04-26',),\n",
       " 'Range6': ('2022-05-17',),\n",
       " 'Range7': ('2022-05-24',),\n",
       " 'Range8': ('2022-06-07',),\n",
       " 'Range9': ('2022-06-24',),\n",
       " 'Range10': ('2022-07-05',),\n",
       " 'Range11': ('2022-07-11',),\n",
       " 'Range12': ('2022-08-04',),\n",
       " 'Range13': ('2022-08-18',),\n",
       " 'Range14': ('2022-08-27',)}"
      ]
     },
     "execution_count": 6,
     "metadata": {},
     "output_type": "execute_result"
    }
   ],
   "source": [
    "comm.seek_consecutive_dates(issue_2_df['utc_dt_isoformat'])"
   ]
  },
  {
   "cell_type": "markdown",
   "metadata": {},
   "source": [
    "### Issue 3 - Generate a heatmap of number of commits count by all users by day-of-week and by 3 hour blocks"
   ]
  },
  {
   "cell_type": "code",
   "execution_count": 7,
   "metadata": {},
   "outputs": [
    {
     "data": {
      "text/html": [
       "<style type=\"text/css\">\n",
       "#T_82dc4_row0_col0, #T_82dc4_row0_col1, #T_82dc4_row0_col2, #T_82dc4_row0_col3, #T_82dc4_row1_col0, #T_82dc4_row1_col2, #T_82dc4_row2_col0, #T_82dc4_row2_col2, #T_82dc4_row2_col3, #T_82dc4_row2_col4, #T_82dc4_row3_col0, #T_82dc4_row3_col1, #T_82dc4_row3_col2, #T_82dc4_row3_col3, #T_82dc4_row4_col0, #T_82dc4_row4_col1, #T_82dc4_row4_col2, #T_82dc4_row4_col3, #T_82dc4_row5_col1, #T_82dc4_row5_col3, #T_82dc4_row5_col4, #T_82dc4_row6_col0, #T_82dc4_row6_col1, #T_82dc4_row6_col2, #T_82dc4_row6_col3, #T_82dc4_row6_col4 {\n",
       "  background-color: #fff7fb;\n",
       "  color: #000000;\n",
       "}\n",
       "#T_82dc4_row0_col4, #T_82dc4_row2_col1, #T_82dc4_row4_col4, #T_82dc4_row5_col0, #T_82dc4_row5_col2 {\n",
       "  background-color: #b4c4df;\n",
       "  color: #000000;\n",
       "}\n",
       "#T_82dc4_row1_col1 {\n",
       "  background-color: #023858;\n",
       "  color: #f1f1f1;\n",
       "}\n",
       "#T_82dc4_row1_col3, #T_82dc4_row1_col4, #T_82dc4_row3_col4 {\n",
       "  background-color: #2685bb;\n",
       "  color: #f1f1f1;\n",
       "}\n",
       "</style>\n",
       "<table id=\"T_82dc4\">\n",
       "  <thead>\n",
       "    <tr>\n",
       "      <th class=\"blank level0\" >&nbsp;</th>\n",
       "      <th id=\"T_82dc4_level0_col0\" class=\"col_heading level0 col0\" colspan=\"5\">utc_dt_local_tz</th>\n",
       "    </tr>\n",
       "    <tr>\n",
       "      <th class=\"index_name level1\" >time_block</th>\n",
       "      <th id=\"T_82dc4_level1_col0\" class=\"col_heading level1 col0\" >00-03</th>\n",
       "      <th id=\"T_82dc4_level1_col1\" class=\"col_heading level1 col1\" >03-06</th>\n",
       "      <th id=\"T_82dc4_level1_col2\" class=\"col_heading level1 col2\" >09-12</th>\n",
       "      <th id=\"T_82dc4_level1_col3\" class=\"col_heading level1 col3\" >18-21</th>\n",
       "      <th id=\"T_82dc4_level1_col4\" class=\"col_heading level1 col4\" >21-00</th>\n",
       "    </tr>\n",
       "    <tr>\n",
       "      <th class=\"index_name level0\" >day_of_week</th>\n",
       "      <th class=\"blank col0\" >&nbsp;</th>\n",
       "      <th class=\"blank col1\" >&nbsp;</th>\n",
       "      <th class=\"blank col2\" >&nbsp;</th>\n",
       "      <th class=\"blank col3\" >&nbsp;</th>\n",
       "      <th class=\"blank col4\" >&nbsp;</th>\n",
       "    </tr>\n",
       "  </thead>\n",
       "  <tbody>\n",
       "    <tr>\n",
       "      <th id=\"T_82dc4_level0_row0\" class=\"row_heading level0 row0\" >Mon</th>\n",
       "      <td id=\"T_82dc4_row0_col0\" class=\"data row0 col0\" >0</td>\n",
       "      <td id=\"T_82dc4_row0_col1\" class=\"data row0 col1\" >0</td>\n",
       "      <td id=\"T_82dc4_row0_col2\" class=\"data row0 col2\" >0</td>\n",
       "      <td id=\"T_82dc4_row0_col3\" class=\"data row0 col3\" >0</td>\n",
       "      <td id=\"T_82dc4_row0_col4\" class=\"data row0 col4\" >1</td>\n",
       "    </tr>\n",
       "    <tr>\n",
       "      <th id=\"T_82dc4_level0_row1\" class=\"row_heading level0 row1\" >Tue</th>\n",
       "      <td id=\"T_82dc4_row1_col0\" class=\"data row1 col0\" >0</td>\n",
       "      <td id=\"T_82dc4_row1_col1\" class=\"data row1 col1\" >3</td>\n",
       "      <td id=\"T_82dc4_row1_col2\" class=\"data row1 col2\" >0</td>\n",
       "      <td id=\"T_82dc4_row1_col3\" class=\"data row1 col3\" >2</td>\n",
       "      <td id=\"T_82dc4_row1_col4\" class=\"data row1 col4\" >2</td>\n",
       "    </tr>\n",
       "    <tr>\n",
       "      <th id=\"T_82dc4_level0_row2\" class=\"row_heading level0 row2\" >Wed</th>\n",
       "      <td id=\"T_82dc4_row2_col0\" class=\"data row2 col0\" >0</td>\n",
       "      <td id=\"T_82dc4_row2_col1\" class=\"data row2 col1\" >1</td>\n",
       "      <td id=\"T_82dc4_row2_col2\" class=\"data row2 col2\" >0</td>\n",
       "      <td id=\"T_82dc4_row2_col3\" class=\"data row2 col3\" >0</td>\n",
       "      <td id=\"T_82dc4_row2_col4\" class=\"data row2 col4\" >0</td>\n",
       "    </tr>\n",
       "    <tr>\n",
       "      <th id=\"T_82dc4_level0_row3\" class=\"row_heading level0 row3\" >Thu</th>\n",
       "      <td id=\"T_82dc4_row3_col0\" class=\"data row3 col0\" >0</td>\n",
       "      <td id=\"T_82dc4_row3_col1\" class=\"data row3 col1\" >0</td>\n",
       "      <td id=\"T_82dc4_row3_col2\" class=\"data row3 col2\" >0</td>\n",
       "      <td id=\"T_82dc4_row3_col3\" class=\"data row3 col3\" >0</td>\n",
       "      <td id=\"T_82dc4_row3_col4\" class=\"data row3 col4\" >2</td>\n",
       "    </tr>\n",
       "    <tr>\n",
       "      <th id=\"T_82dc4_level0_row4\" class=\"row_heading level0 row4\" >Fri</th>\n",
       "      <td id=\"T_82dc4_row4_col0\" class=\"data row4 col0\" >0</td>\n",
       "      <td id=\"T_82dc4_row4_col1\" class=\"data row4 col1\" >0</td>\n",
       "      <td id=\"T_82dc4_row4_col2\" class=\"data row4 col2\" >0</td>\n",
       "      <td id=\"T_82dc4_row4_col3\" class=\"data row4 col3\" >0</td>\n",
       "      <td id=\"T_82dc4_row4_col4\" class=\"data row4 col4\" >1</td>\n",
       "    </tr>\n",
       "    <tr>\n",
       "      <th id=\"T_82dc4_level0_row5\" class=\"row_heading level0 row5\" >Sat</th>\n",
       "      <td id=\"T_82dc4_row5_col0\" class=\"data row5 col0\" >1</td>\n",
       "      <td id=\"T_82dc4_row5_col1\" class=\"data row5 col1\" >0</td>\n",
       "      <td id=\"T_82dc4_row5_col2\" class=\"data row5 col2\" >1</td>\n",
       "      <td id=\"T_82dc4_row5_col3\" class=\"data row5 col3\" >0</td>\n",
       "      <td id=\"T_82dc4_row5_col4\" class=\"data row5 col4\" >0</td>\n",
       "    </tr>\n",
       "    <tr>\n",
       "      <th id=\"T_82dc4_level0_row6\" class=\"row_heading level0 row6\" >Sun</th>\n",
       "      <td id=\"T_82dc4_row6_col0\" class=\"data row6 col0\" >0</td>\n",
       "      <td id=\"T_82dc4_row6_col1\" class=\"data row6 col1\" >0</td>\n",
       "      <td id=\"T_82dc4_row6_col2\" class=\"data row6 col2\" >0</td>\n",
       "      <td id=\"T_82dc4_row6_col3\" class=\"data row6 col3\" >0</td>\n",
       "      <td id=\"T_82dc4_row6_col4\" class=\"data row6 col4\" >0</td>\n",
       "    </tr>\n",
       "  </tbody>\n",
       "</table>\n"
      ],
      "text/plain": [
       "<pandas.io.formats.style.Styler at 0x1cacace6220>"
      ]
     },
     "execution_count": 7,
     "metadata": {},
     "output_type": "execute_result"
    }
   ],
   "source": [
    "(comm.df_for_heatmap(df, local_timezone)\n",
    ".pivot_table(index='day_of_week', columns='time_block', values = [\"utc_dt_local_tz\"], aggfunc='count')\n",
    ".style.background_gradient(axis=None))"
   ]
  }
 ],
 "metadata": {
  "kernelspec": {
   "display_name": "Python 3.9.13 ('edb_assignm')",
   "language": "python",
   "name": "python3"
  },
  "language_info": {
   "codemirror_mode": {
    "name": "ipython",
    "version": 3
   },
   "file_extension": ".py",
   "mimetype": "text/x-python",
   "name": "python",
   "nbconvert_exporter": "python",
   "pygments_lexer": "ipython3",
   "version": "3.9.13"
  },
  "orig_nbformat": 4,
  "vscode": {
   "interpreter": {
    "hash": "c83ac6187a355ba95e83e67838fbf8a2098c8532bf06d1dd34f7f96327c78a5f"
   }
  }
 },
 "nbformat": 4,
 "nbformat_minor": 2
}
